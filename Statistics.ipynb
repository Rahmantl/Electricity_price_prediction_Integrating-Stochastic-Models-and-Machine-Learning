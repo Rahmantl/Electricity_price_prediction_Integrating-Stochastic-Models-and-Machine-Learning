{
 "cells": [
  {
   "cell_type": "code",
   "execution_count": null,
   "id": "7bc5cdc0",
   "metadata": {},
   "outputs": [],
   "source": [
    "import pandas as pd\n",
    "from scipy.stats import skew, kurtosis\n",
    "\n",
    "# Load the dataset\n",
    "file_path = 'allinone_adjusted_final.xlsx'\n",
    "data = pd.read_excel(file_path)\n",
    "\n",
    "# Define your hubs\n",
    "hubs = ['MidC', 'Palo Verde Peak', 'Indiana', 'SP15 EZ Gen DA LMP Peak']\n",
    "\n",
    "# Filter data for selected hubs\n",
    "data_filtered = data[data['Price hub'].isin(hubs)]\n",
    "\n",
    "# Group by Trade date and hub, and take mean if multiple values exist\n",
    "grouped = data_filtered.groupby(['Trade date', 'Price hub'])['price'].mean().reset_index()\n",
    "\n",
    "# Pivot the table to have hubs as columns\n",
    "pivoted = grouped.pivot(index='Trade date', columns='Price hub', values='price')\n",
    "\n",
    "# Drop rows with missing values\n",
    "pivoted.dropna(inplace=True)\n",
    "\n",
    "# Create summary statistics table\n",
    "summary = pd.DataFrame(columns=['Mean', 'Standard Deviation', 'Maximum', 'Minimum', 'Skewness', 'Kurtosis'])\n",
    "\n",
    "for hub in hubs:\n",
    "    values = pivoted[hub]\n",
    "    summary.loc[hub] = [\n",
    "        values.mean(),\n",
    "        values.std(),\n",
    "        values.max(),\n",
    "        values.min(),\n",
    "        skew(values),\n",
    "        kurtosis(values, fisher=False)  # use Fisher=False to match Excel-style kurtosis\n",
    "    ]\n",
    "\n",
    "# Round values for readability\n",
    "summary = summary.round(4)\n",
    "\n",
    "# Display the table\n",
    "import ace_tools as tools; tools.display_dataframe_to_user(name=\"Hub Price Statistics\", dataframe=summary)\n"
   ]
  }
 ],
 "metadata": {
  "language_info": {
   "name": "python"
  }
 },
 "nbformat": 4,
 "nbformat_minor": 5
}
